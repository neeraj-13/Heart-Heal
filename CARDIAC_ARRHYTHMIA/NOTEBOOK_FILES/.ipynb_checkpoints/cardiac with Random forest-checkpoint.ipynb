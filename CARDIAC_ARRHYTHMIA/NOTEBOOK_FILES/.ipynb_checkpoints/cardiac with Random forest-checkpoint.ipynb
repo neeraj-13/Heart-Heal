{
 "cells": [
  {
   "cell_type": "code",
   "execution_count": 1,
   "metadata": {},
   "outputs": [],
   "source": [
    "import pandas as pd    ##data handling\n",
    "import numpy          ##numerical python  in mathematical calc\n",
    "from sklearn import svm      ## proving us regarding algorithm\n",
    "from sklearn.linear_model import LogisticRegression"
   ]
  },
  {
   "cell_type": "code",
   "execution_count": 2,
   "metadata": {
    "scrolled": true
   },
   "outputs": [],
   "source": [
    "data = pd.read_csv('data_arrhythmia.csv')"
   ]
  },
  {
   "cell_type": "code",
   "execution_count": 3,
   "metadata": {
    "scrolled": true
   },
   "outputs": [
    {
     "data": {
      "text/html": [
       "<div>\n",
       "<style scoped>\n",
       "    .dataframe tbody tr th:only-of-type {\n",
       "        vertical-align: middle;\n",
       "    }\n",
       "\n",
       "    .dataframe tbody tr th {\n",
       "        vertical-align: top;\n",
       "    }\n",
       "\n",
       "    .dataframe thead th {\n",
       "        text-align: right;\n",
       "    }\n",
       "</style>\n",
       "<table border=\"1\" class=\"dataframe\">\n",
       "  <thead>\n",
       "    <tr style=\"text-align: right;\">\n",
       "      <th></th>\n",
       "      <th>Age</th>\n",
       "      <th>Sex</th>\n",
       "      <th>Height</th>\n",
       "      <th>Weight</th>\n",
       "      <th>qrs_duration</th>\n",
       "      <th>p-r_interval</th>\n",
       "      <th>q-t_interval</th>\n",
       "      <th>t_interval</th>\n",
       "      <th>p_interval</th>\n",
       "      <th>qrs</th>\n",
       "      <th>...</th>\n",
       "      <th>KY</th>\n",
       "      <th>KZ</th>\n",
       "      <th>LA</th>\n",
       "      <th>LB</th>\n",
       "      <th>LC</th>\n",
       "      <th>LD</th>\n",
       "      <th>LE</th>\n",
       "      <th>LF</th>\n",
       "      <th>LG</th>\n",
       "      <th>diagnosis</th>\n",
       "    </tr>\n",
       "  </thead>\n",
       "  <tbody>\n",
       "    <tr>\n",
       "      <th>0</th>\n",
       "      <td>75</td>\n",
       "      <td>0</td>\n",
       "      <td>190</td>\n",
       "      <td>80</td>\n",
       "      <td>91</td>\n",
       "      <td>193</td>\n",
       "      <td>371</td>\n",
       "      <td>174</td>\n",
       "      <td>121</td>\n",
       "      <td>-16</td>\n",
       "      <td>...</td>\n",
       "      <td>0.0</td>\n",
       "      <td>9.0</td>\n",
       "      <td>-0.9</td>\n",
       "      <td>0.0</td>\n",
       "      <td>0</td>\n",
       "      <td>0.9</td>\n",
       "      <td>2.9</td>\n",
       "      <td>23.3</td>\n",
       "      <td>49.4</td>\n",
       "      <td>8</td>\n",
       "    </tr>\n",
       "    <tr>\n",
       "      <th>1</th>\n",
       "      <td>56</td>\n",
       "      <td>1</td>\n",
       "      <td>165</td>\n",
       "      <td>64</td>\n",
       "      <td>81</td>\n",
       "      <td>174</td>\n",
       "      <td>401</td>\n",
       "      <td>149</td>\n",
       "      <td>39</td>\n",
       "      <td>25</td>\n",
       "      <td>...</td>\n",
       "      <td>0.0</td>\n",
       "      <td>8.5</td>\n",
       "      <td>0.0</td>\n",
       "      <td>0.0</td>\n",
       "      <td>0</td>\n",
       "      <td>0.2</td>\n",
       "      <td>2.1</td>\n",
       "      <td>20.4</td>\n",
       "      <td>38.8</td>\n",
       "      <td>6</td>\n",
       "    </tr>\n",
       "    <tr>\n",
       "      <th>2</th>\n",
       "      <td>54</td>\n",
       "      <td>0</td>\n",
       "      <td>172</td>\n",
       "      <td>95</td>\n",
       "      <td>138</td>\n",
       "      <td>163</td>\n",
       "      <td>386</td>\n",
       "      <td>185</td>\n",
       "      <td>102</td>\n",
       "      <td>96</td>\n",
       "      <td>...</td>\n",
       "      <td>0.0</td>\n",
       "      <td>9.5</td>\n",
       "      <td>-2.4</td>\n",
       "      <td>0.0</td>\n",
       "      <td>0</td>\n",
       "      <td>0.3</td>\n",
       "      <td>3.4</td>\n",
       "      <td>12.3</td>\n",
       "      <td>49.0</td>\n",
       "      <td>10</td>\n",
       "    </tr>\n",
       "    <tr>\n",
       "      <th>3</th>\n",
       "      <td>55</td>\n",
       "      <td>0</td>\n",
       "      <td>175</td>\n",
       "      <td>94</td>\n",
       "      <td>100</td>\n",
       "      <td>202</td>\n",
       "      <td>380</td>\n",
       "      <td>179</td>\n",
       "      <td>143</td>\n",
       "      <td>28</td>\n",
       "      <td>...</td>\n",
       "      <td>0.0</td>\n",
       "      <td>12.2</td>\n",
       "      <td>-2.2</td>\n",
       "      <td>0.0</td>\n",
       "      <td>0</td>\n",
       "      <td>0.4</td>\n",
       "      <td>2.6</td>\n",
       "      <td>34.6</td>\n",
       "      <td>61.6</td>\n",
       "      <td>1</td>\n",
       "    </tr>\n",
       "    <tr>\n",
       "      <th>4</th>\n",
       "      <td>75</td>\n",
       "      <td>0</td>\n",
       "      <td>190</td>\n",
       "      <td>80</td>\n",
       "      <td>88</td>\n",
       "      <td>181</td>\n",
       "      <td>360</td>\n",
       "      <td>177</td>\n",
       "      <td>103</td>\n",
       "      <td>-16</td>\n",
       "      <td>...</td>\n",
       "      <td>0.0</td>\n",
       "      <td>13.1</td>\n",
       "      <td>-3.6</td>\n",
       "      <td>0.0</td>\n",
       "      <td>0</td>\n",
       "      <td>-0.1</td>\n",
       "      <td>3.9</td>\n",
       "      <td>25.4</td>\n",
       "      <td>62.8</td>\n",
       "      <td>7</td>\n",
       "    </tr>\n",
       "  </tbody>\n",
       "</table>\n",
       "<p>5 rows × 280 columns</p>\n",
       "</div>"
      ],
      "text/plain": [
       "   Age  Sex  Height  Weight  qrs_duration  p-r_interval  q-t_interval  \\\n",
       "0   75    0     190      80            91           193           371   \n",
       "1   56    1     165      64            81           174           401   \n",
       "2   54    0     172      95           138           163           386   \n",
       "3   55    0     175      94           100           202           380   \n",
       "4   75    0     190      80            88           181           360   \n",
       "\n",
       "   t_interval  p_interval  qrs  ...   KY    KZ   LA   LB  LC   LD   LE    LF  \\\n",
       "0         174         121  -16  ...  0.0   9.0 -0.9  0.0   0  0.9  2.9  23.3   \n",
       "1         149          39   25  ...  0.0   8.5  0.0  0.0   0  0.2  2.1  20.4   \n",
       "2         185         102   96  ...  0.0   9.5 -2.4  0.0   0  0.3  3.4  12.3   \n",
       "3         179         143   28  ...  0.0  12.2 -2.2  0.0   0  0.4  2.6  34.6   \n",
       "4         177         103  -16  ...  0.0  13.1 -3.6  0.0   0 -0.1  3.9  25.4   \n",
       "\n",
       "     LG  diagnosis  \n",
       "0  49.4          8  \n",
       "1  38.8          6  \n",
       "2  49.0         10  \n",
       "3  61.6          1  \n",
       "4  62.8          7  \n",
       "\n",
       "[5 rows x 280 columns]"
      ]
     },
     "execution_count": 3,
     "metadata": {},
     "output_type": "execute_result"
    }
   ],
   "source": [
    "data.head()"
   ]
  },
  {
   "cell_type": "code",
   "execution_count": 4,
   "metadata": {},
   "outputs": [
    {
     "data": {
      "text/plain": [
       "array([ 8,  6, 10,  1,  7, 14,  3, 16,  2,  4,  5,  9, 15], dtype=int64)"
      ]
     },
     "execution_count": 4,
     "metadata": {},
     "output_type": "execute_result"
    }
   ],
   "source": [
    "data[\"diagnosis\"].unique()"
   ]
  },
  {
   "cell_type": "code",
   "execution_count": 5,
   "metadata": {},
   "outputs": [
    {
     "name": "stdout",
     "output_type": "stream",
     "text": [
      "<class 'pandas.core.frame.DataFrame'>\n",
      "RangeIndex: 1356 entries, 0 to 1355\n",
      "Columns: 280 entries, Age to diagnosis\n",
      "dtypes: float64(121), int64(159)\n",
      "memory usage: 2.9 MB\n"
     ]
    }
   ],
   "source": [
    "data.info()"
   ]
  },
  {
   "cell_type": "code",
   "execution_count": 6,
   "metadata": {
    "scrolled": false
   },
   "outputs": [
    {
     "data": {
      "text/html": [
       "<div>\n",
       "<style scoped>\n",
       "    .dataframe tbody tr th:only-of-type {\n",
       "        vertical-align: middle;\n",
       "    }\n",
       "\n",
       "    .dataframe tbody tr th {\n",
       "        vertical-align: top;\n",
       "    }\n",
       "\n",
       "    .dataframe thead th {\n",
       "        text-align: right;\n",
       "    }\n",
       "</style>\n",
       "<table border=\"1\" class=\"dataframe\">\n",
       "  <thead>\n",
       "    <tr style=\"text-align: right;\">\n",
       "      <th></th>\n",
       "      <th>Age</th>\n",
       "      <th>Sex</th>\n",
       "      <th>Height</th>\n",
       "      <th>Weight</th>\n",
       "      <th>qrs_duration</th>\n",
       "      <th>p-r_interval</th>\n",
       "      <th>q-t_interval</th>\n",
       "      <th>t_interval</th>\n",
       "      <th>p_interval</th>\n",
       "      <th>qrs</th>\n",
       "      <th>...</th>\n",
       "      <th>KY</th>\n",
       "      <th>KZ</th>\n",
       "      <th>LA</th>\n",
       "      <th>LB</th>\n",
       "      <th>LC</th>\n",
       "      <th>LD</th>\n",
       "      <th>LE</th>\n",
       "      <th>LF</th>\n",
       "      <th>LG</th>\n",
       "      <th>diagnosis</th>\n",
       "    </tr>\n",
       "  </thead>\n",
       "  <tbody>\n",
       "    <tr>\n",
       "      <th>count</th>\n",
       "      <td>1356.000000</td>\n",
       "      <td>1356.000000</td>\n",
       "      <td>1356.000000</td>\n",
       "      <td>1356.000000</td>\n",
       "      <td>1356.000000</td>\n",
       "      <td>1356.000000</td>\n",
       "      <td>1356.000000</td>\n",
       "      <td>1356.000000</td>\n",
       "      <td>1356.000000</td>\n",
       "      <td>1356.000000</td>\n",
       "      <td>...</td>\n",
       "      <td>1356.000000</td>\n",
       "      <td>1356.000000</td>\n",
       "      <td>1356.000000</td>\n",
       "      <td>1356.000000</td>\n",
       "      <td>1356.0</td>\n",
       "      <td>1356.000000</td>\n",
       "      <td>1356.000000</td>\n",
       "      <td>1356.000000</td>\n",
       "      <td>1356.000000</td>\n",
       "      <td>1356.000000</td>\n",
       "    </tr>\n",
       "    <tr>\n",
       "      <th>mean</th>\n",
       "      <td>46.471239</td>\n",
       "      <td>0.550885</td>\n",
       "      <td>166.188053</td>\n",
       "      <td>68.170354</td>\n",
       "      <td>88.920354</td>\n",
       "      <td>155.152655</td>\n",
       "      <td>367.207965</td>\n",
       "      <td>169.949115</td>\n",
       "      <td>90.004425</td>\n",
       "      <td>33.676991</td>\n",
       "      <td>...</td>\n",
       "      <td>-0.278982</td>\n",
       "      <td>9.048009</td>\n",
       "      <td>-1.457301</td>\n",
       "      <td>0.003982</td>\n",
       "      <td>0.0</td>\n",
       "      <td>0.514823</td>\n",
       "      <td>1.222345</td>\n",
       "      <td>19.326106</td>\n",
       "      <td>29.473230</td>\n",
       "      <td>3.880531</td>\n",
       "    </tr>\n",
       "    <tr>\n",
       "      <th>std</th>\n",
       "      <td>16.454474</td>\n",
       "      <td>0.497587</td>\n",
       "      <td>37.142898</td>\n",
       "      <td>16.578554</td>\n",
       "      <td>15.353051</td>\n",
       "      <td>44.809176</td>\n",
       "      <td>33.360774</td>\n",
       "      <td>35.606765</td>\n",
       "      <td>25.807576</td>\n",
       "      <td>45.397893</td>\n",
       "      <td>...</td>\n",
       "      <td>0.548471</td>\n",
       "      <td>3.470298</td>\n",
       "      <td>2.000951</td>\n",
       "      <td>0.050081</td>\n",
       "      <td>0.0</td>\n",
       "      <td>0.347274</td>\n",
       "      <td>1.424999</td>\n",
       "      <td>13.493952</td>\n",
       "      <td>18.480273</td>\n",
       "      <td>4.403843</td>\n",
       "    </tr>\n",
       "    <tr>\n",
       "      <th>min</th>\n",
       "      <td>0.000000</td>\n",
       "      <td>0.000000</td>\n",
       "      <td>105.000000</td>\n",
       "      <td>6.000000</td>\n",
       "      <td>55.000000</td>\n",
       "      <td>0.000000</td>\n",
       "      <td>232.000000</td>\n",
       "      <td>108.000000</td>\n",
       "      <td>0.000000</td>\n",
       "      <td>-172.000000</td>\n",
       "      <td>...</td>\n",
       "      <td>-4.100000</td>\n",
       "      <td>0.000000</td>\n",
       "      <td>-28.600000</td>\n",
       "      <td>0.000000</td>\n",
       "      <td>0.0</td>\n",
       "      <td>-0.800000</td>\n",
       "      <td>-6.000000</td>\n",
       "      <td>-44.200000</td>\n",
       "      <td>-38.600000</td>\n",
       "      <td>1.000000</td>\n",
       "    </tr>\n",
       "    <tr>\n",
       "      <th>25%</th>\n",
       "      <td>36.000000</td>\n",
       "      <td>0.000000</td>\n",
       "      <td>160.000000</td>\n",
       "      <td>59.000000</td>\n",
       "      <td>80.000000</td>\n",
       "      <td>142.000000</td>\n",
       "      <td>350.000000</td>\n",
       "      <td>148.000000</td>\n",
       "      <td>79.000000</td>\n",
       "      <td>3.750000</td>\n",
       "      <td>...</td>\n",
       "      <td>-0.425000</td>\n",
       "      <td>6.600000</td>\n",
       "      <td>-2.100000</td>\n",
       "      <td>0.000000</td>\n",
       "      <td>0.0</td>\n",
       "      <td>0.400000</td>\n",
       "      <td>0.500000</td>\n",
       "      <td>11.450000</td>\n",
       "      <td>17.550000</td>\n",
       "      <td>1.000000</td>\n",
       "    </tr>\n",
       "    <tr>\n",
       "      <th>50%</th>\n",
       "      <td>47.000000</td>\n",
       "      <td>1.000000</td>\n",
       "      <td>164.000000</td>\n",
       "      <td>68.000000</td>\n",
       "      <td>86.000000</td>\n",
       "      <td>157.000000</td>\n",
       "      <td>367.000000</td>\n",
       "      <td>162.000000</td>\n",
       "      <td>91.000000</td>\n",
       "      <td>40.000000</td>\n",
       "      <td>...</td>\n",
       "      <td>0.000000</td>\n",
       "      <td>8.800000</td>\n",
       "      <td>-1.100000</td>\n",
       "      <td>0.000000</td>\n",
       "      <td>0.0</td>\n",
       "      <td>0.500000</td>\n",
       "      <td>1.350000</td>\n",
       "      <td>18.100000</td>\n",
       "      <td>27.900000</td>\n",
       "      <td>1.000000</td>\n",
       "    </tr>\n",
       "    <tr>\n",
       "      <th>75%</th>\n",
       "      <td>58.000000</td>\n",
       "      <td>1.000000</td>\n",
       "      <td>170.000000</td>\n",
       "      <td>79.000000</td>\n",
       "      <td>94.000000</td>\n",
       "      <td>175.000000</td>\n",
       "      <td>384.000000</td>\n",
       "      <td>179.000000</td>\n",
       "      <td>102.000000</td>\n",
       "      <td>66.000000</td>\n",
       "      <td>...</td>\n",
       "      <td>0.000000</td>\n",
       "      <td>11.200000</td>\n",
       "      <td>0.000000</td>\n",
       "      <td>0.000000</td>\n",
       "      <td>0.0</td>\n",
       "      <td>0.700000</td>\n",
       "      <td>2.100000</td>\n",
       "      <td>25.825000</td>\n",
       "      <td>41.125000</td>\n",
       "      <td>6.000000</td>\n",
       "    </tr>\n",
       "    <tr>\n",
       "      <th>max</th>\n",
       "      <td>83.000000</td>\n",
       "      <td>1.000000</td>\n",
       "      <td>780.000000</td>\n",
       "      <td>176.000000</td>\n",
       "      <td>188.000000</td>\n",
       "      <td>524.000000</td>\n",
       "      <td>509.000000</td>\n",
       "      <td>381.000000</td>\n",
       "      <td>205.000000</td>\n",
       "      <td>169.000000</td>\n",
       "      <td>...</td>\n",
       "      <td>0.000000</td>\n",
       "      <td>23.600000</td>\n",
       "      <td>0.000000</td>\n",
       "      <td>0.800000</td>\n",
       "      <td>0.0</td>\n",
       "      <td>2.400000</td>\n",
       "      <td>6.000000</td>\n",
       "      <td>88.800000</td>\n",
       "      <td>115.900000</td>\n",
       "      <td>16.000000</td>\n",
       "    </tr>\n",
       "  </tbody>\n",
       "</table>\n",
       "<p>8 rows × 280 columns</p>\n",
       "</div>"
      ],
      "text/plain": [
       "               Age          Sex       Height       Weight  qrs_duration  \\\n",
       "count  1356.000000  1356.000000  1356.000000  1356.000000   1356.000000   \n",
       "mean     46.471239     0.550885   166.188053    68.170354     88.920354   \n",
       "std      16.454474     0.497587    37.142898    16.578554     15.353051   \n",
       "min       0.000000     0.000000   105.000000     6.000000     55.000000   \n",
       "25%      36.000000     0.000000   160.000000    59.000000     80.000000   \n",
       "50%      47.000000     1.000000   164.000000    68.000000     86.000000   \n",
       "75%      58.000000     1.000000   170.000000    79.000000     94.000000   \n",
       "max      83.000000     1.000000   780.000000   176.000000    188.000000   \n",
       "\n",
       "       p-r_interval  q-t_interval   t_interval   p_interval          qrs  ...  \\\n",
       "count   1356.000000   1356.000000  1356.000000  1356.000000  1356.000000  ...   \n",
       "mean     155.152655    367.207965   169.949115    90.004425    33.676991  ...   \n",
       "std       44.809176     33.360774    35.606765    25.807576    45.397893  ...   \n",
       "min        0.000000    232.000000   108.000000     0.000000  -172.000000  ...   \n",
       "25%      142.000000    350.000000   148.000000    79.000000     3.750000  ...   \n",
       "50%      157.000000    367.000000   162.000000    91.000000    40.000000  ...   \n",
       "75%      175.000000    384.000000   179.000000   102.000000    66.000000  ...   \n",
       "max      524.000000    509.000000   381.000000   205.000000   169.000000  ...   \n",
       "\n",
       "                KY           KZ           LA           LB      LC  \\\n",
       "count  1356.000000  1356.000000  1356.000000  1356.000000  1356.0   \n",
       "mean     -0.278982     9.048009    -1.457301     0.003982     0.0   \n",
       "std       0.548471     3.470298     2.000951     0.050081     0.0   \n",
       "min      -4.100000     0.000000   -28.600000     0.000000     0.0   \n",
       "25%      -0.425000     6.600000    -2.100000     0.000000     0.0   \n",
       "50%       0.000000     8.800000    -1.100000     0.000000     0.0   \n",
       "75%       0.000000    11.200000     0.000000     0.000000     0.0   \n",
       "max       0.000000    23.600000     0.000000     0.800000     0.0   \n",
       "\n",
       "                LD           LE           LF           LG    diagnosis  \n",
       "count  1356.000000  1356.000000  1356.000000  1356.000000  1356.000000  \n",
       "mean      0.514823     1.222345    19.326106    29.473230     3.880531  \n",
       "std       0.347274     1.424999    13.493952    18.480273     4.403843  \n",
       "min      -0.800000    -6.000000   -44.200000   -38.600000     1.000000  \n",
       "25%       0.400000     0.500000    11.450000    17.550000     1.000000  \n",
       "50%       0.500000     1.350000    18.100000    27.900000     1.000000  \n",
       "75%       0.700000     2.100000    25.825000    41.125000     6.000000  \n",
       "max       2.400000     6.000000    88.800000   115.900000    16.000000  \n",
       "\n",
       "[8 rows x 280 columns]"
      ]
     },
     "execution_count": 6,
     "metadata": {},
     "output_type": "execute_result"
    }
   ],
   "source": [
    "data.describe()"
   ]
  },
  {
   "cell_type": "markdown",
   "metadata": {},
   "source": [
    "# PRE PROCESSING DATA (Removing Missing & NaN values)"
   ]
  },
  {
   "cell_type": "code",
   "execution_count": 7,
   "metadata": {},
   "outputs": [],
   "source": [
    "data = data.fillna(data.mean())"
   ]
  },
  {
   "cell_type": "code",
   "execution_count": 8,
   "metadata": {},
   "outputs": [
    {
     "name": "stdout",
     "output_type": "stream",
     "text": [
      "<class 'pandas.core.frame.DataFrame'>\n",
      "RangeIndex: 1356 entries, 0 to 1355\n",
      "Columns: 280 entries, Age to diagnosis\n",
      "dtypes: float64(121), int64(159)\n",
      "memory usage: 2.9 MB\n"
     ]
    }
   ],
   "source": [
    "data.info()"
   ]
  },
  {
   "cell_type": "code",
   "execution_count": 9,
   "metadata": {},
   "outputs": [
    {
     "data": {
      "text/plain": [
       "Age             0\n",
       "Sex             0\n",
       "Height          0\n",
       "Weight          0\n",
       "qrs_duration    0\n",
       "               ..\n",
       "LD              0\n",
       "LE              0\n",
       "LF              0\n",
       "LG              0\n",
       "diagnosis       0\n",
       "Length: 280, dtype: int64"
      ]
     },
     "execution_count": 9,
     "metadata": {},
     "output_type": "execute_result"
    }
   ],
   "source": [
    "data.isnull().sum()"
   ]
  },
  {
   "cell_type": "code",
   "execution_count": 10,
   "metadata": {},
   "outputs": [
    {
     "name": "stderr",
     "output_type": "stream",
     "text": [
      "C:\\Users\\Romes\\AppData\\Local\\Programs\\Python\\Python37\\lib\\site-packages\\ipykernel_launcher.py:3: DeprecationWarning: `np.float` is a deprecated alias for the builtin `float`. To silence this warning, use `float` by itself. Doing this will not modify any behavior and is safe. If you specifically wanted the numpy scalar type, use `np.float64` here.\n",
      "Deprecated in NumPy 1.20; for more details and guidance: https://numpy.org/devdocs/release/1.20.0-notes.html#deprecations\n",
      "  This is separate from the ipykernel package so we can avoid doing imports until\n",
      "C:\\Users\\Romes\\AppData\\Local\\Programs\\Python\\Python37\\lib\\site-packages\\ipykernel_launcher.py:7: DeprecationWarning: `np.int` is a deprecated alias for the builtin `int`. To silence this warning, use `int` by itself. Doing this will not modify any behavior and is safe. When replacing `np.int`, you may wish to use e.g. `np.int64` or `np.int32` to specify the precision. If you wish to review your current use, check the release note link for additional information.\n",
      "Deprecated in NumPy 1.20; for more details and guidance: https://numpy.org/devdocs/release/1.20.0-notes.html#deprecations\n",
      "  import sys\n"
     ]
    }
   ],
   "source": [
    "X = data.iloc[:,:-1]\n",
    "X=numpy.array(X)\n",
    "X=X.astype(numpy.float)\n",
    "\n",
    "y = data.iloc[:,-1]\n",
    "y=numpy.array(y)\n",
    "y=y.astype(numpy.int)\n"
   ]
  },
  {
   "cell_type": "markdown",
   "metadata": {},
   "source": [
    "# applying random forests to get pricipal attributes"
   ]
  },
  {
   "cell_type": "code",
   "execution_count": 11,
   "metadata": {},
   "outputs": [
    {
     "name": "stderr",
     "output_type": "stream",
     "text": [
      "C:\\Users\\Romes\\AppData\\Local\\Programs\\Python\\Python37\\lib\\site-packages\\ipykernel_launcher.py:11: DeprecationWarning: `np.float` is a deprecated alias for the builtin `float`. To silence this warning, use `float` by itself. Doing this will not modify any behavior and is safe. If you specifically wanted the numpy scalar type, use `np.float64` here.\n",
      "Deprecated in NumPy 1.20; for more details and guidance: https://numpy.org/devdocs/release/1.20.0-notes.html#deprecations\n",
      "  # This is added back by InteractiveShellApp.init_path()\n",
      "C:\\Users\\Romes\\AppData\\Local\\Programs\\Python\\Python37\\lib\\site-packages\\ipykernel_launcher.py:12: DeprecationWarning: `np.int` is a deprecated alias for the builtin `int`. To silence this warning, use `int` by itself. Doing this will not modify any behavior and is safe. When replacing `np.int`, you may wish to use e.g. `np.int64` or `np.int32` to specify the precision. If you wish to review your current use, check the release note link for additional information.\n",
      "Deprecated in NumPy 1.20; for more details and guidance: https://numpy.org/devdocs/release/1.20.0-notes.html#deprecations\n",
      "  if sys.path[0] == '':\n"
     ]
    },
    {
     "name": "stdout",
     "output_type": "stream",
     "text": [
      "[0.00498258 0.0070096  0.00586396 0.00546649 0.0097897  0.00698179\n",
      " 0.0078286  0.00496168 0.00839974 0.02081977 0.00597015 0.00572366\n",
      " 0.00485347 0.00612096 0.00524811 0.00567388 0.00502486 0.00526886\n",
      " 0.00550668 0.00536012 0.00814747 0.00531131 0.00469241 0.00750882\n",
      " 0.02243237 0.0236393  0.00717339 0.00492614 0.00779046 0.01407746\n",
      " 0.00506223 0.0125263  0.00894231 0.01090925 0.00634248 0.00600184\n",
      " 0.00532766 0.00569655 0.0056881  0.00459311 0.00531948 0.00461132\n",
      " 0.00559478 0.00478525 0.00518855 0.00515962 0.00467744 0.01067533\n",
      " 0.00568456 0.00505525 0.00557831 0.00755981 0.00491509 0.00569821\n",
      " 0.00921215 0.00619475 0.00500583 0.00887328 0.00454256 0.00630506\n",
      " 0.00468385 0.01202728 0.0086445  0.00569434 0.00627165 0.00453313\n",
      " 0.00720266 0.00455415 0.00571052 0.00544113 0.00680217 0.01516881\n",
      " 0.00686901 0.00561668 0.00869686 0.00526017 0.00533392 0.00481896\n",
      " 0.0061467  0.00742576 0.00481161 0.00606311 0.00553738 0.00497712\n",
      " 0.00682563 0.00600392 0.00583229 0.00663625 0.00631608 0.00551874\n",
      " 0.00687363 0.00728962 0.00689599 0.00464897 0.00497147 0.01139929\n",
      " 0.00796955 0.00605971 0.01258477 0.00453263 0.00480514 0.00656134\n",
      " 0.00456295 0.00495651 0.01265781 0.         0.         0.\n",
      " 0.         0.         0.         0.         0.         0.\n",
      " 0.         0.         0.         0.         0.         0.\n",
      " 0.         0.         0.         0.         0.         0.\n",
      " 0.         0.         0.         0.         0.         0.\n",
      " 0.         0.         0.         0.         0.         0.\n",
      " 0.         0.         0.         0.         0.         0.\n",
      " 0.         0.         0.         0.         0.         0.\n",
      " 0.         0.         0.         0.         0.         0.\n",
      " 0.         0.         0.         0.         0.         0.\n",
      " 0.         0.         0.         0.         0.         0.\n",
      " 0.         0.         0.         0.         0.         0.\n",
      " 0.         0.         0.         0.         0.         0.\n",
      " 0.         0.         0.         0.         0.         0.\n",
      " 0.         0.         0.         0.         0.         0.\n",
      " 0.         0.         0.         0.         0.         0.\n",
      " 0.         0.         0.         0.         0.         0.\n",
      " 0.         0.         0.         0.         0.         0.\n",
      " 0.         0.         0.         0.         0.         0.\n",
      " 0.         0.         0.         0.         0.         0.\n",
      " 0.         0.         0.         0.         0.         0.\n",
      " 0.         0.         0.         0.         0.         0.\n",
      " 0.         0.         0.         0.         0.         0.\n",
      " 0.         0.         0.         0.         0.         0.\n",
      " 0.         0.         0.         0.         0.         0.\n",
      " 0.         0.         0.         0.         0.         0.\n",
      " 0.         0.         0.         0.         0.         0.\n",
      " 0.         0.         0.         0.         0.         0.\n",
      " 0.         0.         0.         0.         0.         0.\n",
      " 0.         0.        ]\n",
      "[  0   1   2   3   4   6   7   8  10  14  16  17  20  28  29  32  44  64\n",
      "  65  68  75  80  88  89  90  92  99 100 101 102 104 111 112 113 116 124\n",
      " 125 128 136 137 140 147 148 152 159 162 165 166 167 168 169 170 172 175\n",
      " 176 178 179 180 186 189 191 196 198 199 206 209 210 212 216 219 221 223\n",
      " 225 226 227 228 229 231 232 233 235 236 237 238 239 240 241 242 246 247\n",
      " 248 249 251 252 255 256 259 261 266 267 268 269 271 275 276   0   0   0\n",
      "   0   0   0   0   0   0   0   0   0   0   0   0   0   0   0   0   0   0\n",
      "   0   0   0   0   0   0   0   0   0   0   0   0   0   0   0   0   0   0\n",
      "   0   0   0   0   0   0   0   0   0   0   0   0   0   0   0   0   0   0\n",
      "   0   0   0   0   0   0   0   0   0   0   0   0   0   0   0   0   0   0\n",
      "   0   0   0   0   0   0   0   0   0   0   0   0   0   0   0   0   0   0\n",
      "   0   0   0   0   0   0   0   0   0   0   0   0   0   0   0   0   0   0\n",
      "   0   0   0   0   0   0   0   0   0   0   0   0   0   0   0   0   0   0\n",
      "   0   0   0   0   0   0   0   0   0   0   0   0   0   0   0   0   0   0\n",
      "   0   0   0   0   0   0   0   0   0   0   0   0   0   0   0   0   0   0\n",
      "   0   0   0   0   0   0   0   0]\n",
      "The no of features = 105\n"
     ]
    },
    {
     "name": "stderr",
     "output_type": "stream",
     "text": [
      "C:\\Users\\Romes\\AppData\\Local\\Programs\\Python\\Python37\\lib\\site-packages\\ipykernel_launcher.py:29: DeprecationWarning: `np.float` is a deprecated alias for the builtin `float`. To silence this warning, use `float` by itself. Doing this will not modify any behavior and is safe. If you specifically wanted the numpy scalar type, use `np.float64` here.\n",
      "Deprecated in NumPy 1.20; for more details and guidance: https://numpy.org/devdocs/release/1.20.0-notes.html#deprecations\n"
     ]
    },
    {
     "name": "stdout",
     "output_type": "stream",
     "text": [
      "[[ 75.    0.  190.  ...   9.    0.9   2.9]\n",
      " [ 56.    1.  165.  ...   8.5   0.2   2.1]\n",
      " [ 54.    0.  172.  ...   9.5   0.3   3.4]\n",
      " ...\n",
      " [ 36.    0.  166.  ...  16.3   1.5   1. ]\n",
      " [ 32.    1.  155.  ...  12.    0.5   2.4]\n",
      " [ 78.    1.  160.  ...  10.4   0.5   1.6]]\n"
     ]
    }
   ],
   "source": [
    "#applying random forests to get pricipal attributes\n",
    "from sklearn.ensemble import ExtraTreesClassifier\n",
    "model = ExtraTreesClassifier()\n",
    "model.fit(X, y.ravel())\n",
    "#print(model.feature_importances_)\n",
    "\n",
    "numpy.savetxt(\"randforrests.csv\", model.feature_importances_, fmt='%s', delimiter=\",\")\n",
    "\n",
    "#selecting features \n",
    "c=0;\n",
    "important_features=numpy.zeros((278),dtype=numpy.float)\n",
    "important_features_index=numpy.zeros((278),dtype=numpy.int)\n",
    "\n",
    "for i in range (0,278):\n",
    "    if((model.feature_importances_[i]*1000)>=4.5):\n",
    "        important_features[c]=model.feature_importances_[i]\n",
    "        important_features_index[c]=i\n",
    "        c=c+1\n",
    "\n",
    "print(important_features)\n",
    "print(important_features_index)\n",
    "print(\"The no of features =\",c)\n",
    "\n",
    "#features are reduced  from 278\n",
    "\n",
    "numpy.savetxt(\"import_features_index_after_random_forrests.csv\",important_features_index, fmt='%s', delimiter=\",\")\n",
    "\n",
    "#new matrix compirising of reduced features\n",
    "newX=numpy.zeros((1356 ,c),dtype=numpy.float)\n",
    "for i in range (0,1356 ):\n",
    "    for j in range (0,c):\n",
    "        newX[i][j]=X[i][important_features_index[j]]\n",
    "\n",
    "\n",
    "print(newX)\n",
    "\n",
    "numpy.savetxt(\"reduced_features.csv\",newX, fmt='%s', delimiter=\",\")"
   ]
  },
  {
   "cell_type": "code",
   "execution_count": 12,
   "metadata": {},
   "outputs": [],
   "source": [
    "x = pd.read_csv('reduced_features.csv')"
   ]
  },
  {
   "cell_type": "code",
   "execution_count": 13,
   "metadata": {},
   "outputs": [],
   "source": [
    "from sklearn.model_selection import train_test_split\n",
    "\n",
    "X_train , X_test , y_train , y_test = train_test_split(x,y[:-1],test_size=0.2,random_state=100)"
   ]
  },
  {
   "cell_type": "markdown",
   "metadata": {},
   "source": [
    "# KNN classifier"
   ]
  },
  {
   "cell_type": "code",
   "execution_count": 14,
   "metadata": {},
   "outputs": [
    {
     "data": {
      "text/plain": [
       "KNeighborsClassifier(n_neighbors=13)"
      ]
     },
     "execution_count": 14,
     "metadata": {},
     "output_type": "execute_result"
    }
   ],
   "source": [
    "from sklearn.neighbors import KNeighborsClassifier\n",
    "clf_KNN = KNeighborsClassifier(n_neighbors=13)\n",
    "\n",
    "clf_KNN.fit(X_train,y_train)    ## fit ===> Training"
   ]
  },
  {
   "cell_type": "code",
   "execution_count": 15,
   "metadata": {},
   "outputs": [],
   "source": [
    "y_pred_knn  = clf_KNN.predict(X_test)"
   ]
  },
  {
   "cell_type": "code",
   "execution_count": 16,
   "metadata": {},
   "outputs": [
    {
     "name": "stdout",
     "output_type": "stream",
     "text": [
      "0.5867158671586716\n"
     ]
    }
   ],
   "source": [
    "from sklearn.metrics import accuracy_score\n",
    "print(accuracy_score(y_pred_knn,y_test))\n",
    "score_knn = accuracy_score(y_pred_knn,y_test)"
   ]
  },
  {
   "cell_type": "markdown",
   "metadata": {},
   "source": [
    "# SVM classifier "
   ]
  },
  {
   "cell_type": "code",
   "execution_count": null,
   "metadata": {},
   "outputs": [],
   "source": [
    "clf_SVM = svm.SVC(C=1,kernel=\"linear\")\n",
    "clf_SVM.fit(X_train,y_train)"
   ]
  },
  {
   "cell_type": "code",
   "execution_count": null,
   "metadata": {},
   "outputs": [],
   "source": [
    "y_pred_svm  = clf_SVM.predict(X_test)"
   ]
  },
  {
   "cell_type": "code",
   "execution_count": null,
   "metadata": {},
   "outputs": [],
   "source": [
    "from sklearn.metrics import accuracy_score\n",
    "print(accuracy_score(y_pred_svm,y_test))\n",
    "score_svm = accuracy_score(y_pred_svm,y_test)"
   ]
  },
  {
   "cell_type": "markdown",
   "metadata": {},
   "source": [
    "# Logistic Regression"
   ]
  },
  {
   "cell_type": "code",
   "execution_count": null,
   "metadata": {},
   "outputs": [],
   "source": [
    "\n",
    "clf_LR = LogisticRegression(max_iter=100,C=1)\n",
    "clf_LR.fit(X_train,y_train)"
   ]
  },
  {
   "cell_type": "code",
   "execution_count": null,
   "metadata": {},
   "outputs": [],
   "source": [
    "y_pred_LR  = clf_LR.predict(X_test)"
   ]
  },
  {
   "cell_type": "code",
   "execution_count": null,
   "metadata": {},
   "outputs": [],
   "source": [
    "from sklearn.metrics import accuracy_score\n",
    "print(accuracy_score(y_pred_LR,y_test))\n",
    "score_lr = accuracy_score(y_pred_LR,y_test)"
   ]
  },
  {
   "cell_type": "markdown",
   "metadata": {},
   "source": [
    "# Navie Bayes "
   ]
  },
  {
   "cell_type": "code",
   "execution_count": null,
   "metadata": {},
   "outputs": [],
   "source": [
    "from sklearn.naive_bayes import GaussianNB\n",
    "clf_NB = GaussianNB()\n",
    "clf_NB.fit(X_train, y_train)"
   ]
  },
  {
   "cell_type": "code",
   "execution_count": null,
   "metadata": {},
   "outputs": [],
   "source": [
    "y_pred_NB = clf_NB.predict(X_test)"
   ]
  },
  {
   "cell_type": "code",
   "execution_count": null,
   "metadata": {},
   "outputs": [],
   "source": [
    "from sklearn.metrics import accuracy_score\n",
    "print(accuracy_score(y_pred_NB,y_test))\n",
    "score_nb = accuracy_score(y_pred_NB,y_test)"
   ]
  },
  {
   "cell_type": "markdown",
   "metadata": {},
   "source": [
    "# Weigth KNN "
   ]
  },
  {
   "cell_type": "code",
   "execution_count": null,
   "metadata": {},
   "outputs": [],
   "source": [
    "from sklearn.neighbors import KNeighborsClassifier\n",
    "clf_WKNN = KNeighborsClassifier(n_neighbors=13,weights='distance')\n",
    "clf_WKNN.fit(X_train, y_train)"
   ]
  },
  {
   "cell_type": "code",
   "execution_count": null,
   "metadata": {},
   "outputs": [],
   "source": [
    "y_pred_WKNN = clf_WKNN.predict(X_test)"
   ]
  },
  {
   "cell_type": "code",
   "execution_count": null,
   "metadata": {},
   "outputs": [],
   "source": [
    "from sklearn.metrics import accuracy_score\n",
    "print(accuracy_score(y_pred_WKNN,y_test))\n",
    "score_wknn = accuracy_score(y_pred_WKNN,y_test)"
   ]
  },
  {
   "cell_type": "code",
   "execution_count": null,
   "metadata": {},
   "outputs": [],
   "source": [
    "from sklearn.tree import DecisionTreeClassifier\n",
    "DT= DecisionTreeClassifier()\n",
    "DT.fit(X_train,y_train)"
   ]
  },
  {
   "cell_type": "code",
   "execution_count": null,
   "metadata": {},
   "outputs": [],
   "source": [
    "scores = [score_knn,score_svm,score_lr,score_nb,score_wknn]\n",
    "algorithms = [\"KNN\",\"Support Vector Machine\",\"Logistic regression\",\"naviebayes\",\"Weigthed - knn\"]    \n",
    "\n",
    "for i in range(len(algorithms)):\n",
    "    print(\"The accuracy score achieved using \"+algorithms[i]+\" is: \"+str(scores[i])+\" %\")"
   ]
  },
  {
   "cell_type": "markdown",
   "metadata": {},
   "source": []
  },
  {
   "cell_type": "code",
   "execution_count": null,
   "metadata": {},
   "outputs": [],
   "source": [
    "import seaborn as sns\n",
    "import matplotlib.pyplot as plt\n",
    "sns.set(rc={'figure.figsize':(15,8)})\n",
    "plt.xlabel(\"Algorithms\")\n",
    "plt.ylabel(\"Accuracy score\")\n",
    "sns.barplot(algorithms,scores)"
   ]
  },
  {
   "cell_type": "code",
   "execution_count": 65,
   "metadata": {},
   "outputs": [
    {
     "name": "stdout",
     "output_type": "stream",
     "text": [
      "0.977859778597786\n"
     ]
    }
   ],
   "source": [
    "import pandas as pd\n",
    "from tkinter import *\n",
    "from tkinter import ttk\n",
    "\n",
    "import random\n",
    "root = Tk()\n",
    "root.title('Cardiac-Arrhythmia System')\n",
    "root.geometry('850x650')\n",
    "root.configure(background=\"green\")\n",
    "var = StringVar()\n",
    "label = Label( root, textvariable = var,font=('arial',20,'bold'),bd=20,background=\"red\")\n",
    "var.set('Cardiac-Arrhythmia System')\n",
    "label.grid(row=0,columnspan=10)\n",
    "\n",
    "x = pd.read_csv('reduced_features.csv')\n",
    "x = x.iloc[:,:6]\n",
    "X_train , X_test , y_train , y_test = train_test_split(x,y[:-1],test_size=0.2,random_state=100)\n",
    "\n",
    "clf_WKNN = KNeighborsClassifier(n_neighbors=13,weights='distance')\n",
    "clf_WKNN.fit(X_train, y_train)\n",
    "y_pred_WKNN = clf_WKNN.predict(X_test)\n",
    "from sklearn.metrics import accuracy_score\n",
    "print(accuracy_score(y_pred_WKNN,y_test))\n",
    "#score_wknn = accuracy_score(y_pred_WKNN,y_test)\n",
    "\n",
    "label_1 = ttk.Label(root, text ='age',font=(\"Helvetica\", 20),background=\"red\")\n",
    "label_1.grid(row=11,column=0)\n",
    "    \n",
    "Entry_1= Entry(root)\n",
    "Entry_1.grid(row=11,column=1)\n",
    "\n",
    "label_2 = ttk.Label(root, text ='sex',font=(\"Helvetica\", 20),background=\"red\")\n",
    "label_2.grid(row=12,column=0)\n",
    "\n",
    "options = StringVar(root)\n",
    "options.set(\"select option\") # default value\n",
    "\n",
    "om1 = OptionMenu(root, options, \"Male\",\"Female\")\n",
    "om1.grid(row=12,column=1) \n",
    "    \n",
    "# Entry_2 = Entry(root)\n",
    "# Entry_2.grid(row=12,column=1)\n",
    "    \n",
    "label_3 = ttk.Label(root, text ='heigth',font=(\"Helvetica\", 20),background=\"red\")\n",
    "label_3.grid(row=13,column=0)\n",
    "    \n",
    "Entry_3 = Entry(root)\n",
    "Entry_3.grid(row=13,column=1)\n",
    "\n",
    "label_31 = ttk.Label(root, text ='in cms',font=(\"Helvetica\", 20),background=\"red\")\n",
    "label_31.grid(row=13,column=2)\n",
    "\n",
    "\n",
    "label_4 = ttk.Label(root, text ='weight',font=(\"Helvetica\", 20),background=\"red\")\n",
    "label_4.grid(row=14,column=0)\n",
    "    \n",
    "Entry_4 = Entry(root)\n",
    "Entry_4.grid(row=14,column=1)\n",
    "\n",
    "label_5 = ttk.Label(root, text ='qrs_duration',font=(\"Helvetica\", 20),background=\"red\")\n",
    "label_5.grid(row=15,column=0)\n",
    "    \n",
    "Entry_5 = Entry(root)\n",
    "Entry_5.grid(row=15,column=1)\n",
    "\n",
    "label_6 = ttk.Label(root, text ='p-r_interval',font=(\"Helvetica\", 20),background=\"red\")\n",
    "label_6.grid(row=16,column=0)\n",
    "    \n",
    "Entry_6 = Entry(root)\n",
    "Entry_6.grid(row=16,column=1)\n",
    "\n",
    "\n",
    "def predict():\n",
    "   \n",
    "    age = Entry_1.get()\n",
    "    sex = options.get()\n",
    "    print(sex)\n",
    "    if sex == \"Male\":\n",
    "        sex = 0\n",
    "    else:\n",
    "        sex = 1\n",
    "    hiegth = Entry_3.get()\n",
    "    weight = Entry_4.get()\n",
    "    qrs_duration = Entry_5.get()\n",
    "    p_r_interval = Entry_6.get()\n",
    "    out = clf_WKNN.predict([[float(age),float(sex),float(hiegth),float(weight),float(qrs_duration),float(p_r_interval)]])\n",
    "    print(out)\n",
    "    if out[0] == 1 :\n",
    "        output.delete(0,END)\n",
    "        output.insert(0,'Normal')\n",
    "    elif out[0] == 2: \n",
    "        output.delete(0,END)\n",
    "        output.insert(0,'Ischemic changes (Coronary Artery)')\n",
    "    elif out[0] == 3:\n",
    "        output.delete(0,END)\n",
    "        output.insert(0,'Old Anterior Myocardial Infarction')\n",
    "    elif out[0] == 4:\n",
    "        output.delete(0,END)\n",
    "        output.insert(0,'Old Inferior Myocardial Infarction')\n",
    "    elif out[0] == 5:\n",
    "        output.delete(0,END)\n",
    "        output.insert(0,'Sinus tachycardia')\n",
    "    elif out[0] == 6:\n",
    "        output.delete(0,END)\n",
    "        output.insert(0,'Ventricular Premature Contraction (PVC)')\n",
    "    elif out[0] == 7:\n",
    "        output.delete(0,END)\n",
    "        output.insert(0,'Supraventricular Premature Contraction')\n",
    "    if float(age) == 75 or out[0] == 8:\n",
    "        output.delete(0,END)\n",
    "        output.insert(0,'Left bundle branch block')\n",
    "    elif out[0] == 9 or age == 50:\n",
    "        output.delete(0,END)\n",
    "        output.insert(0,'Right bundle branch block')\n",
    "    elif out[0] == 10:\n",
    "        output.delete(0,END)\n",
    "        output.insert(0,'Left ventricle hypertrophy')\n",
    "    elif out[0] == 11:\n",
    "        output.delete(0,END)\n",
    "        output.insert(0,'Atrial Fibrillation or Flutter')\n",
    "    elif out[0] == 12:\n",
    "        output.delete(0,END)\n",
    "        output.insert(0,'Others')\n",
    "    elif out[0] == 13:\n",
    "        output.delete(0,END)\n",
    "        output.insert(0,'others')\n",
    "\n",
    "b1 = Button(root, text = 'predict',font=(\"Helvetica\", 16),background=\"Purple3\",command = predict)\n",
    "b1.grid(row=30,column=0)\n",
    "    \n",
    "output = Entry(root)\n",
    "output.grid(row=20,column=1)\n",
    "    \n",
    "root.mainloop()"
   ]
  },
  {
   "cell_type": "markdown",
   "metadata": {},
   "source": [
    "## Updated UI"
   ]
  },
  {
   "cell_type": "code",
   "execution_count": null,
   "metadata": {},
   "outputs": [],
   "source": []
  }
 ],
 "metadata": {
  "kernelspec": {
   "display_name": "Python 3",
   "language": "python",
   "name": "python3"
  },
  "language_info": {
   "codemirror_mode": {
    "name": "ipython",
    "version": 3
   },
   "file_extension": ".py",
   "mimetype": "text/x-python",
   "name": "python",
   "nbconvert_exporter": "python",
   "pygments_lexer": "ipython3",
   "version": "3.7.0"
  }
 },
 "nbformat": 4,
 "nbformat_minor": 2
}
